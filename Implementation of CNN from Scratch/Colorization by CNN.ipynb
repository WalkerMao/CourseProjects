{
  "nbformat": 4,
  "nbformat_minor": 0,
  "metadata": {
    "colab": {
      "name": "Assignment 4 - Colorization.ipynb",
      "provenance": [],
      "collapsed_sections": [],
      "machine_shape": "hm"
    },
    "kernelspec": {
      "name": "python3",
      "display_name": "Python 3"
    }
  },
  "cells": [
    {
      "cell_type": "markdown",
      "metadata": {
        "id": "F3N13IK6Gkfs",
        "colab_type": "text"
      },
      "source": [
        "# Colorization by CNN\n",
        "\n",
        "***Weikai Mao***"
      ]
    },
    {
      "cell_type": "code",
      "metadata": {
        "id": "rNOCg5sJG8IW",
        "colab_type": "code",
        "colab": {}
      },
      "source": [
        "from google.colab import drive\n",
        "from skimage.color import rgb2lab, lab2rgb, rgb2gray, xyz2lab\n",
        "from skimage.io import imsave\n",
        "import numpy as np\n",
        "import os\n",
        "import random\n",
        "import matplotlib.pyplot as plt\n",
        "import cv2\n",
        "import glob\n",
        "import matplotlib.image as mpimg"
      ],
      "execution_count": 0,
      "outputs": []
    },
    {
      "cell_type": "code",
      "metadata": {
        "id": "_KRRKYYQEakW",
        "colab_type": "code",
        "outputId": "b8d8fba6-47fc-4bdf-9cff-d7b95fa6f007",
        "colab": {
          "base_uri": "https://localhost:8080/",
          "height": 54
        }
      },
      "source": [
        "drive.mount('/content/gdrive')"
      ],
      "execution_count": 0,
      "outputs": [
        {
          "output_type": "stream",
          "text": [
            "Drive already mounted at /content/gdrive; to attempt to forcibly remount, call drive.mount(\"/content/gdrive\", force_remount=True).\n"
          ],
          "name": "stdout"
        }
      ]
    },
    {
      "cell_type": "markdown",
      "metadata": {
        "id": "34uZxPJhcsDU",
        "colab_type": "text"
      },
      "source": [
        "## Implementing the components of CNN\n",
        "\n",
        "In this section, we use the package `numpy` to implement the functions that will be used in CNN."
      ]
    },
    {
      "cell_type": "markdown",
      "metadata": {
        "id": "-kH3_jvkcwfs",
        "colab_type": "text"
      },
      "source": [
        "### Zero Padding\n",
        "\n",
        "Zero-padding is used to pad the input volume with zeros around the border to control the spatial size of the output volumes."
      ]
    },
    {
      "cell_type": "code",
      "metadata": {
        "id": "wW3u_pRzYMbm",
        "colab_type": "code",
        "colab": {}
      },
      "source": [
        "def zero_padding(X:np.array, pad:int) -> np.array:\n",
        "    \"\"\" \n",
        "    Parameters:\n",
        "    X: np.array of dim (m, height, width, colorNum), X is a batch of m images.\n",
        "    pad: int, the size of zero padding.\n",
        "    \n",
        "    Returns: \n",
        "    np.array of dim (m, height+2*pad, width+2*pad, colorNum)\n",
        "    \"\"\"\n",
        "\n",
        "    return np.pad(X, ((0,0),(pad,pad),(pad,pad),(0,0)), 'constant', constant_values=(0,0))"
      ],
      "execution_count": 0,
      "outputs": []
    },
    {
      "cell_type": "code",
      "metadata": {
        "id": "l8yNKZq8ZYst",
        "colab_type": "code",
        "outputId": "93939025-98d7-42e0-f09d-4e7c816ad366",
        "colab": {
          "base_uri": "https://localhost:8080/",
          "height": 273
        }
      },
      "source": [
        "# rgb to grayscale\n",
        "def rgb_to_gray(data):\n",
        "    gray = []\n",
        "    for rgb in data:\n",
        "       rgb = np.dot(rgb[...,:3], [0.21, 0.72, 0.07])\n",
        "       gray.append(rgb)\n",
        "    return np.array(gray)\n",
        "\n",
        "\n",
        "path = \"/content/gdrive/My Drive/Colab Notebooks/color/sky\"\n",
        "data_path = os.path.join(path,'*g')\n",
        "files = glob.glob(data_path)\n",
        "img = mpimg.imread(files[0])\n",
        "img_gray = rgb_to_gray(img)\n",
        "img_gray_reshaped = img_gray.reshape((img.shape[0], img.shape[1],1))\n",
        "plt.imshow(img_gray, cmap='gray')\n",
        "plt.title(\"Gray image\");"
      ],
      "execution_count": 0,
      "outputs": [
        {
          "output_type": "display_data",
          "data": {
            "image/png": "[encoded data removed]",
            "text/plain": [
              "<Figure size 432x288 with 1 Axes>"
            ]
          },
          "metadata": {
            "tags": []
          }
        }
      ]
    },
    {
      "cell_type": "code",
      "metadata": {
        "id": "Hwqe1vD6bt_m",
        "colab_type": "code",
        "outputId": "0b2531cf-48a5-4df5-c0ea-96cfbd842bfc",
        "colab": {
          "base_uri": "https://localhost:8080/",
          "height": 276
        }
      },
      "source": [
        "img_gray_reshaped = img_gray.reshape((img.shape[0], img.shape[1], 1))\n",
        "img_padded_reshaped = zero_padding([img_gray_reshaped], 20)[0]\n",
        "img_padded = img_padded_reshaped.reshape((img_padded_reshaped.shape[0], img_padded_reshaped.shape[1]))\n",
        "plt.imshow(img_padded, cmap='gray')\n",
        "plt.title(\"Gray image after padding\");"
      ],
      "execution_count": 0,
      "outputs": [
        {
          "output_type": "display_data",
          "data": {
            "image/png": "[encoded data removed]",
            "text/plain": [
              "<Figure size 432x288 with 1 Axes>"
            ]
          },
          "metadata": {
            "tags": []
          }
        }
      ]
    },
    {
      "cell_type": "markdown",
      "metadata": {
        "id": "OF-u4odFezNR",
        "colab_type": "text"
      },
      "source": [
        "### Single step of convolution"
      ]
    },
    {
      "cell_type": "code",
      "metadata": {
        "id": "R1C8VepfeOPT",
        "colab_type": "code",
        "colab": {}
      },
      "source": [
        "def conv_one_step(field:np.array, W:np.array, b:np.array) -> float:\n",
        "    \"\"\" \n",
        "    Parameters:\n",
        "    field: np.array of dim (f,f,colorNum),  it is the input data of the field,\n",
        "           where f is the receptive field (window) size.\n",
        "    W: np.array of dim (f,f,colorNum), weights of the field. \n",
        "    b: np.array of dim (1,1,1), bias of the field. \n",
        "\n",
        "    Returns:\n",
        "    float, result of convolving the input field.\n",
        "    \"\"\"\n",
        "    z = float(np.sum(field * W) + b)\n",
        "    return z"
      ],
      "execution_count": 0,
      "outputs": []
    },
    {
      "cell_type": "markdown",
      "metadata": {
        "id": "xo8NPKsBxgEI",
        "colab_type": "text"
      },
      "source": [
        "### Forward pass in convolutional layer\n",
        "\n",
        "![CNN forward pass](http://cs231n.github.io/assets/cnn/cnn.jpeg)\n",
        "\n",
        "The input of this function is a batch of the blue cubes, and the output is a batch the following cubes."
      ]
    },
    {
      "cell_type": "code",
      "metadata": {
        "id": "dKoMAvnzxfsT",
        "colab_type": "code",
        "colab": {}
      },
      "source": [
        "def conv_forward(Z_in, W, b, stride, pad):\n",
        "    \"\"\"\n",
        "    This function implement the forward propagation for CNN.\n",
        "    \n",
        "    Parameters:\n",
        "    Z_in: np.array of dim (m, height_in, width_in, depth_in), input.\n",
        "    W: np.array of dim (f, f, depth_in, depth_out), weights.\n",
        "    b: np.array of dim (1, 1, 1, depth_out), biases.\n",
        "\n",
        "    Returns:\n",
        "    Z_out: np.array of dim (m, height_out, width_out, depth_out), output.\n",
        "    memory: will be used for the function CNN_backward()\n",
        "    \"\"\"\n",
        "    \n",
        "    # set the dimensions and some parameters\n",
        "    (m, height_in, width_in, depth_in) = Z_in.shape\n",
        "    (f, f, depth_in, depth_out) = W.shape\n",
        "    # compute the output dimensions\n",
        "    height_out = int((height_in + 2 * pad - f) / stride + 1)\n",
        "    width_out = int((width_in + 2 * pad - f) / stride + 1)\n",
        "    # initialize the output\n",
        "    Z_out = np.zeros((m, height_out, width_out, depth_out))\n",
        "    # zero-pad the input \n",
        "    Z_in_padded = zero_padding(Z_in, pad)\n",
        "\n",
        "    # iterate over all m images in the batch\n",
        "    for i in range(m):\n",
        "        Z_in_padded_i = Z_in_padded[i, :, :, :]\n",
        "        for hgt in range(height_out):\n",
        "            for wd in range(width_out):\n",
        "                for dp in range(depth_out):\n",
        "                    # corners of the field\n",
        "                    height_begin = hgt * stride\n",
        "                    height_end = height_begin + f\n",
        "                    width_begin = wd * stride\n",
        "                    width_end = width_begin + f\n",
        "                    # take out the field\n",
        "                    field = Z_in_padded_i[height_begin:height_end, width_begin:width_end, :]\n",
        "                    # use the function conv_one_step to compute\n",
        "                    Z_out[i, hgt, wd, dp] = conv_one_step(field, W=W[:,:,:,dp], b=b[:,:,:,dp])\n",
        "    \n",
        "    # verify the output dimension\n",
        "    assert(Z_out.shape == (m, height_out, width_out, depth_out))\n",
        "    # memory for backpropagation\n",
        "    memory = (Z_in, W, b, stride, pad)\n",
        "\n",
        "    return Z_out, memory"
      ],
      "execution_count": 0,
      "outputs": []
    },
    {
      "cell_type": "markdown",
      "metadata": {
        "id": "ocVLPBfVt-Si",
        "colab_type": "text"
      },
      "source": [
        "### Softmax function\n",
        "\n",
        "We apply softmax function at the output layer for $K$-class classification:\n",
        "\n",
        "$$\n",
        "\\hat{y}_k^{(h,w)} = \\text{Softmax} (\\mathbf {z}^{(h,w)} )_k={\\frac {\\exp(z_k^{(h,w)})} {\\sum _{l=1}^{K} \\exp(z_{l}^{(h,w)})}}, \\\\ {\\text{ for }}k=1,\\dotsc ,K{\\text{ and }}\\mathbf {z} =(z_{1},\\dotsc ,z_{K})\\in \\mathbb {R} ^{K}.\n",
        "$$\n",
        "\n",
        "where $\\hat{y}_k^{(h,w)}$ is the estimated probability of the pixel at position $(h,w)$ is of class $k$."
      ]
    },
    {
      "cell_type": "code",
      "metadata": {
        "id": "w3vLIrrtt9SU",
        "colab_type": "code",
        "colab": {}
      },
      "source": [
        "def softmax(Z: np.array) -> np.array:\n",
        "  \"\"\"\n",
        "  Parameters: Z: np.array of dim (m, height, width, K), \n",
        "  where K is the number of classes.\n",
        "  Returns: np.array of the same dim (m, height, width, K).\n",
        "  \"\"\"\n",
        "  for i in range(Z.shape[0]):\n",
        "    for h in range(Z.shape[1]):\n",
        "      for w in range(Z.shape[2]):\n",
        "        z = Z[i][h][w] # z is a np.array of dim K\n",
        "        e_z = np.exp(z - np.max(z))\n",
        "        Z[i][h][w] = e_z / e_z.sum(axis=0)\n",
        "  return Z"
      ],
      "execution_count": 0,
      "outputs": []
    },
    {
      "cell_type": "markdown",
      "metadata": {
        "id": "3iMT9620WjvO",
        "colab_type": "text"
      },
      "source": [
        "### Loss function\n",
        "\n",
        "We apply the categorical cross-entropy loss function for a batch of images:\n",
        "\n",
        "$$\n",
        "\\text{Loss}(Y, \\hat{Y}) = \\frac{1}{m} \\sum_{i=1}^m \\text{Loss}(Y_i,\\hat{Y}_i) = \\frac{1}{m} \\sum_{i=1}^m \\Big[\\frac{-1}{H_i\\cdot W_i} \\sum_{h,w}\\sum_k y_{ik}^{(h,w)} \\log \\hat{y}_{ik}^{(h,w)} \\Big],\n",
        "$$\n",
        "\n",
        "where $Y$ is a batch of raw images, $Y_i$ is a raw image, $\\hat{Y}_i$ is the prediction, $H_i$ and $W_i$ are the height and width of this image, $k$ is the class label of the corresponding color, $y_k^{(h,w)}=1$ if the pixel at the position $(h,w)$ in the image $i$ should be classified as the class $k$, $\\ y_{ik}^{(h,w)}=0$ otherwise, and $\\hat{y}_{ik}^{(h,w)}$ is the estimated probability of the pixel is of the class $k$."
      ]
    },
    {
      "cell_type": "code",
      "metadata": {
        "id": "F1BSbx6RdFcS",
        "colab_type": "code",
        "colab": {}
      },
      "source": [
        "def cross_entropy(Y:np.array, Yhat:np.array) -> float:\n",
        "  \"\"\"\n",
        "  Parameters: Y, Yhat: np.array of dim (m, height, width, K).\n",
        "  Returns: float, average cross-entropy loss of one pixel in the batch.\n",
        "  \"\"\"\n",
        "  loss_sum = 0\n",
        "  for i in range(Y.shape[0]):\n",
        "    loss_sum += -1/(Y.shape[1] * Y.shape[2]) * np.sum(Y[i] * np.log(Yhat[i]))\n",
        "  return loss_sum / Y.shape[0]"
      ],
      "execution_count": 0,
      "outputs": []
    },
    {
      "cell_type": "markdown",
      "metadata": {
        "id": "3aSoaL4FE9Rq",
        "colab_type": "text"
      },
      "source": [
        "### Partial derivatives\n",
        "\n",
        "For briefer formulation and with loss of generality, in the math derivation below, we denote the scalar $\\hat{y}_{ik}^{(h,w)}$ and scalar $z_{ik'}^{(h,w)}$ as $\\hat{y}_{k}$ and $z_{k'}$ respectively. Assume all images have the same height and width, and denote them as $H$ and $W$. \n",
        "\n",
        "The partial derivative of the cross entropy loss:\n",
        "\n",
        "$$\n",
        "\\frac{\\partial \\text{Loss}} {\\partial \\hat{y}_k} = \\frac{-1}{H\\cdot W} \\cdot \\frac{y_k}{\\hat{y}_k}.\n",
        "$$"
      ]
    },
    {
      "cell_type": "markdown",
      "metadata": {
        "id": "nBiurW6iIVDy",
        "colab_type": "text"
      },
      "source": [
        "The partial derivative of softmax:\n",
        "\n",
        "If $k=k'$,\n",
        "\n",
        "$$\n",
        "% <![CDATA[\n",
        "\\begin{align}\n",
        "\\frac{\\partial \\hat{y}_k}{\\partial z_k}\n",
        "&= \\frac{\\partial  \\frac{e^{z_k}}{\\sum_{l=1}^K e^{z_l}}}{\\partial z_k} \\\\\n",
        "&= \\frac{e^{z_k} \\sum_{l=1}^K e^{z_l} - e^{z_k}e^{z_k}}{\\left( \\sum_{l=1}^K e^{z_l}\\right)^2} \\\\\n",
        "&= \\frac{e^{z_k} \\left( \\sum_{l=1}^K e^{z_l} - e^{z_k}\\right )}{\\left( \\sum_{l=1}^K e^{z_l}\\right)^2} \\\\\n",
        "&= \\frac{ e^{z_k} }{\\sum_{l=1}^K e^{z_l} } \\times \\frac{\\left( \\sum_{l=1}^K e^{z_l} - e^{z_k}\\right ) }{\\sum_{l=1}^K e^{z_l} } \\\\\n",
        "&= \\hat{y}_k (1-\\hat{y}_k).\n",
        "\\end{align} %]]>\n",
        "$$\n",
        "\n",
        "For $k\\neq k'$,\n",
        "\n",
        "$$\n",
        "% <![CDATA[\n",
        "\\begin{align}\n",
        "\\frac{\\partial \\hat{y}_k}{\\partial z_{k'}}\n",
        "&= \\frac{\\partial  \\frac{e^{z_k}}{\\sum_{l=1}^K e^{z_l}}}{\\partial z_{k'}} \\\\\n",
        "&= \\frac{0-e^{z_k}e^{z_{k'}}}{\\left( \\sum_{l=1}^K e^{z_l}\\right)^2} \\\\\n",
        "&= \\frac{ -e^{z_k} }{\\sum_{l=1}^K e^{z_l} } \\times \\frac{ e^{z_{k'}} }{\\sum_{l=1}^K e^{z_l} }  \\\\\n",
        "&= - \\hat{y}_k \\hat{y}_{k'}.\n",
        "\\end{align} %]]>\n",
        "$$\n",
        "\n",
        "Thus, the partial derivative of softmax is given as\n",
        "\n",
        "$$\n",
        "% <![CDATA[\n",
        "\\frac{\\partial \\hat{y}_k}{\\partial z_{k'}} = \n",
        "\\begin{cases}\n",
        "\\hat{y}_k (1-\\hat{y}_k) &  \\text{if} & k=k', \\\\\n",
        "- \\hat{y}_k \\hat{y}_{k'} & \\text{if} & k \\neq k'.\n",
        "\\end{cases} %]]>\n",
        "$$\n"
      ]
    },
    {
      "cell_type": "markdown",
      "metadata": {
        "id": "676W4-8Yl0eE",
        "colab_type": "text"
      },
      "source": [
        "For row vectors $\\mathbf{\\hat{y}}_i^{(h,w)}$ and $\\mathbf{z}_i^{(h,w)}$, they both have dimension $1*K$. \n",
        "\n",
        "For the same reason, we denote the scalar $\\hat{y}_{ik}^{(h,w)}$ and scalar $z_{ik'}^{(h,w)}$ as $\\hat{y}_{ik}$ and $z_{ik'}$ respectively.\n",
        "\n",
        "\n",
        "The derivative of the cross entropy loss with respect to $\\mathbf{\\hat{y}}_i^{(h,w)}$:\n",
        "\n",
        "$$\n",
        "\\frac{\\partial \\text{Loss}} {\\partial \\mathbf{\\hat{y}}_i} = \\frac{1}{H\\cdot W} \n",
        "\\Big(\\frac{-y_{i1}}{\\hat{y}_{i1}},\\frac{-y_{i2}}{\\hat{y}_{i2}}, ..., \\frac{-y_{iK}}{\\hat{y}_{iK}} \\Big),\n",
        "$$\n",
        "which is a row vector of dimension $1*K$."
      ]
    },
    {
      "cell_type": "markdown",
      "metadata": {
        "id": "Ch0EXO2NEydy",
        "colab_type": "text"
      },
      "source": [
        "\n",
        "The derivative of softmax with respect to $\\mathbf{z}_i^{(h,w)}$:\n",
        "\n",
        "$$\n",
        "\\begin{align}\n",
        "\\frac{\\partial \\mathbf{\\hat{y}}_i^{(h,w)}} {\\partial \\mathbf{z}_i^{(h,w)}} &= \\Big[ \\frac{\\partial \\hat{y}_{ik}}{\\partial z_{ik'}} \\Big]_{k,k'=1,...,K} \\\\\n",
        "&= \n",
        " \\begin{pmatrix}\n",
        "  \\hat{y}_{i1}(1-\\hat{y}_{i1}) & -\\hat{y}_{i1}\\hat{y}_{i2} & \\cdots & -\\hat{y}_{i1}\\hat{y}_{iK} \\\\\n",
        "  -\\hat{y}_{i2}\\hat{y}_{i1} & -\\hat{y}_{i2}(1-\\hat{y}_{i2}) & \\cdots & -\\hat{y}_{i2}\\hat{y}_{iK} \\\\\n",
        "  \\vdots  & \\vdots  & \\ddots & \\vdots  \\\\\n",
        "-\\hat{y}_{iK} \\hat{y}_{i1} & -\\hat{y}_{iK}\\hat{y}_{i2} & \\cdots & \\hat{y}_{iK}(1-\\hat{y}_{iK})\n",
        " \\end{pmatrix}\n",
        "\\end{align}\n",
        "$$\n",
        "which is a matrix of dimension $K*K$."
      ]
    },
    {
      "cell_type": "markdown",
      "metadata": {
        "id": "bvHlokX7EhIb",
        "colab_type": "text"
      },
      "source": [
        "By the chain rule of partial derivatives, and since $\\sum_{k=1}^K y_{ik}=1$, we have\n",
        "\n",
        "$$\n",
        "\\frac{\\partial \\text{Loss}} {\\partial \\mathbf{z}_i^{(h,w)}} = \\frac{\\partial \\text{Loss}} {\\partial \\mathbf{\\hat{y}}^{(h,w)}_i} \\cdot \\frac{\\partial \\mathbf{\\hat{y}}_i^{(h,w)}} {\\partial \\mathbf{z}_i^{(h,w)}} = \\frac{1}{H\\cdot W} \\Big(\\hat{y}^{(h,w)}_{i1}-y^{(h,w)}_{i1},  \\hat{y}^{(h,w)}_{i2}-y^{(h,w)}_{i2}, \\cdots, \\hat{y}^{(h,w)}_{iK}-y^{(h,w)}_{iK}\\Big).\n",
        "$$\n",
        "which is a row vector of dimension $1∗K$.\n",
        "\n",
        "Denote the output of the last convolutional layer as $Z$, the raw images after one hot encoding as $Y$, the output of the softmax layer as $\\hat{Y}$. The dimensions of $Z$, $Y$ and $\\hat{Y}$ are both $m * \\text{height} * \\text{width} * K$. \n",
        "\n",
        "Therefore, \n",
        "$$\n",
        "\\frac{\\partial Loss}{\\partial Z} = \\frac{1}{H\\cdot W} (\\hat{Y} - Y).\n",
        "$$"
      ]
    },
    {
      "cell_type": "markdown",
      "metadata": {
        "id": "P_uYhORyW1w_",
        "colab_type": "text"
      },
      "source": [
        "### Initialization\n",
        "\n",
        "We use the **Xavier** initialization. For every layer $l$: \n",
        "\n",
        "$$\n",
        "W^{[l]} \\sim N(0,1/n^{[l-1]}),\\ b^{[l]}=0,\n",
        "$$ \n",
        "\n",
        "where $n^{[l-1]}$ is the number of neurons in layer $l-1$, i.e. $\\text{height}^{[l-1]} \\times \\text{width}^{[l-1]} \\times \\text{depth}^{[l-1]}$."
      ]
    },
    {
      "cell_type": "code",
      "metadata": {
        "id": "HOjUN26bZCcv",
        "colab_type": "code",
        "colab": {}
      },
      "source": [
        "def initialize(Zi_in_shape:tuple, Zi_out_shape:tuple, f:int) -> (np.array, np.array):\n",
        "  \"\"\"\n",
        "  Initialize weights and biases for a convolutional layer by Xavier initialization.\n",
        "  \n",
        "  Parameters:\n",
        "  Zi_in_shape: tuple, (height_in, width_in, depth_in).\n",
        "  Zi_out_shape: tuple, (height_out, width_out, depth_out).\n",
        "  \n",
        "FF  Returns:\n",
        "  W: np.array of dim (f, f, depth_in, depth_out), weights.\n",
        "  b: np.array of dim (1, 1, 1, depth_out), biases.\n",
        "  \"\"\"\n",
        "  \n",
        "  (height_in, width_in, depth_in) = Zi_in_shape\n",
        "  (height_out, width_out, depth_out) = Zi_out_shape\n",
        "  W = np.random.normal(loc=0, scale=1/(height_in*width_in*depth_in + height_out*width_out*depth_out), \\\n",
        "                       size=(f, f, depth_in, depth_out))\n",
        "  b = np.zeros(shape=(1, 1, 1, depth_out))\n",
        "  return W, b"
      ],
      "execution_count": 0,
      "outputs": []
    },
    {
      "cell_type": "markdown",
      "metadata": {
        "id": "a_teVmQf9jWa",
        "colab_type": "text"
      },
      "source": [
        "### Backpropagation in a convolutional layer\n",
        "\n",
        "By the chain rule of caculus, we implement backpropagation to do gradient descent."
      ]
    },
    {
      "cell_type": "code",
      "metadata": {
        "id": "GW1mQ0wSGi8O",
        "colab_type": "code",
        "colab": {}
      },
      "source": [
        "def conv_backward(dLdZ:np.array, memory:np.array):\n",
        "  \"\"\"\n",
        "  The dimension of this conv layer output is (m, height_out, width_out, depth_out).\n",
        "\n",
        "  Parameters:\n",
        "  dLdZ: np.array of dim (m, height_out, width_out, depth_out), \n",
        "        gradient of the loss with respect to output of the conv layer (Z).\n",
        "  memory: tuple, output of the function conv_forward().\n",
        "\n",
        "  Returns: \n",
        "  dLdZ_in: np.array of dim (m, height_in, width_in, depth_in), \n",
        "           gradient of the loss with respect to input of this conv layer.\n",
        "  dLdW: np.array of dim (f, f, depth_in, depth_out), \n",
        "        gradient of loss with respect to the weights (W) of this conv layer.\n",
        "  dLdb: np.array of dim (1, 1, 1, depth_out), \n",
        "        gradient of loss with respect to the biases (b) of this conv layer.\n",
        "  \"\"\"\n",
        "\n",
        "  # get the dimensions and some parameters from the input parameters\n",
        "  (Z_in, W, b, stride, pad) = memory\n",
        "  (m, height_in, width_in, depth_in) = Z_in.shape\n",
        "  (f, f, depth_in, depth_out) = W.shape\n",
        "  (m, height_out, width_out, depth_out) = dLdZ.shape\n",
        "  \n",
        "  # initialize gradients\n",
        "  dLdZ_in = np.zeros((m, height_in, width_in, depth_in))\n",
        "  dLdW = np.zeros((f, f, depth_in, depth_out))\n",
        "  dLdb = np.zeros((1, 1, 1, depth_out))\n",
        "\n",
        "  # zero-padding\n",
        "  Z_in_padded = zero_padding(Z_in, pad)\n",
        "  dLdZ_in_padded = zero_padding(dLdZ_in, pad)\n",
        "\n",
        "  # iterate over all m images in the batch\n",
        "  for i in range(m):\n",
        "    # take out the image i\n",
        "    Z_in_padded_i = Z_in_padded[i,:,:,:]\n",
        "    dLdZ_in_padded_i = dLdZ_in_padded[i,:,:,:]\n",
        "    for hgt in range(height_out):\n",
        "      for wd in range(width_out):\n",
        "        for dp in range(depth_out):\n",
        "          # corners of the field\n",
        "          height_begin = hgt * stride\n",
        "          height_end = height_begin + f\n",
        "          width_begin = wd * stride\n",
        "          width_end = width_begin + f\n",
        "          \n",
        "          # take out the field\n",
        "          field = Z_in_padded_i[height_begin:height_end, width_begin:width_end, :]\n",
        "          aaa = W[:,:,:,dp] * dLdZ[i, hgt, wd, dp]\n",
        "          \n",
        "          # Update gradients for the field\n",
        "          dLdZ_in_padded_i[height_begin:height_end, width_begin:width_end, :] += \\\n",
        "                           W[:,:,:,dp] * dLdZ[i, hgt, wd, dp]\n",
        "          dLdW[:,:,:,dp] += field * dLdZ[i, hgt, wd, dp]\n",
        "          dLdb[:,:,:,dp] += dLdZ[i, hgt, wd, dp]\n",
        "    \n",
        "    # unpadding the image i\n",
        "    shp0, shp1 = dLdZ_in_padded_i.shape[0:2]\n",
        "    dLdZ_in[i,:,:,:] = dLdZ_in_padded_i[pad:shp0-pad, pad:shp1-pad, :]\n",
        "  \n",
        "  # verify the output dimension\n",
        "  assert(dLdZ_in.shape == (m, height_in, width_in, depth_in))\n",
        "\n",
        "  return dLdZ_in, dLdW, dLdb"
      ],
      "execution_count": 0,
      "outputs": []
    },
    {
      "cell_type": "markdown",
      "metadata": {
        "id": "qJJOVp0NZz_C",
        "colab_type": "text"
      },
      "source": [
        "## Implementing the CNN"
      ]
    },
    {
      "cell_type": "markdown",
      "metadata": {
        "id": "jCuKT7UAP8O8",
        "colab_type": "text"
      },
      "source": [
        "### Building a CNN\n",
        "\n",
        "\n",
        "```\n",
        "[Gray images] -> [Conv1] -> [Conv2] -> [Conv3] -> [Softmax] -> [Colorized images] -> Loss\n",
        "```\n",
        "\n",
        "For a convolutional layer:\n",
        "\n",
        "- Accepts a volume of size $W_1×H_1×D_1$.\n",
        "- Requires four hyperparameters:\n",
        "  - depth of the layer (number of filters) $K$;\n",
        "  - receptive field size $F$;\n",
        "  - stride $S$;\n",
        "  - amount of zero padding $P$.\n",
        "- Produces a volume of size $W_2×H_2×D_2$, where:\n",
        "  - $W_2=(W_1−F+2P)/S+1$;\n",
        "  - $H_2=(H_1−F+2P)/S+1$;\n",
        "  - $D_2=K$.\n",
        "- With parameter sharing, it introduces $F⋅F⋅D_1$ weights per filter, for a total of $(F⋅F⋅D_1)⋅K$ weights and $K$ biases."
      ]
    },
    {
      "cell_type": "code",
      "metadata": {
        "id": "zKuhRJAS88Bi",
        "colab_type": "code",
        "colab": {}
      },
      "source": [
        "def cnn_pass(images:np.array, Y:np.array, weights:np.array, biases:np.array, \\\n",
        "             params:tuple, shapes:tuple): \n",
        "  \"\"\"\n",
        "  Parameters:\n",
        "  images: np.array of dim (m, height0, width0, 1), a batch of m gray images.\n",
        "  Y: np.array (m, height0, width0, K), a batch of m images after one-hot encoding.\n",
        "  params: tuple, the length of the tuple is the number of conv layers, \n",
        "          params = ((f1, stride1, pad1), (f2, stride2, pad2), ...).\n",
        "  shapes: tuple, it is the shapes of conv layers,\n",
        "          ((height1, width1, depth1), (height2, width2, depth2), ...).\n",
        "  weights: np.arrray, [W1, W2, ...].\n",
        "  biases: np.arrray, [b1, b2, ...].\n",
        "  \n",
        "  Returns:\n",
        "  gradients: tuple, the length of the tuple is the number of conv layers, \n",
        "             gradients = ((dLdW1, dLdb1), (dLdW2, dLdb2), ...).\n",
        "  loss: float, average training cross-entropy loss of one pixel in the batch..\n",
        "  \"\"\"\n",
        "\n",
        "  # retrieve the parameters\n",
        "  K = Y.shape[-1] # number of prediction classes\n",
        "  m, height0, width0, depth0 = images.shape\n",
        "  f1, stride1, pad1 = params[0]\n",
        "  f2, stride2, pad2 = params[1]\n",
        "  f3, stride3, pad3 = params[2]\n",
        "  height1, width1, depth1 = shapes[0]\n",
        "  height2, width2, depth2 = shapes[1]\n",
        "  height3, width3, depth3 = shapes[2]\n",
        "  W1, W2, W3 = weights\n",
        "  b1, b2, b3 = biases\n",
        "\n",
        "\n",
        "  ######################\n",
        "  #### forward pass ####\n",
        "  ######################\n",
        "\n",
        "  # ----------- begin of conv layers forward operations ---------------\n",
        "  # forward pass the 1st conv layer\n",
        "  # Z1 is the output of the 1st conv layer\n",
        "  Z1, mem1 = conv_forward(images, W1, b1, stride1, pad1) \n",
        "  Z1[Z1 < 0] = 0 # apply ReLU\n",
        "\n",
        "  # forward pass the 2nd conv layer\n",
        "  Z2, mem2 = conv_forward(Z1, W2, b2, stride2, pad2) \n",
        "  Z2[Z2 < 0] = 0 # apply ReLU\n",
        "\n",
        "  # forward pass the 3rd conv layer\n",
        "  Z3, mem3 = conv_forward(Z2, W3, b3, stride3, pad3) \n",
        "  Z3[Z3 < 0] = 0 # apply ReLU\n",
        "  \n",
        "  Z_last = np.copy(Z3)\n",
        "  # ----------- end of conv layers forward operations ----------------\n",
        "\n",
        "  # verify the shape\n",
        "  assert(Z_last.shape == (m, height0, width0, K))\n",
        "  # softmax (output) layer\n",
        "  Yhat = softmax(Z_last)\n",
        "  # cross-entropy loss\n",
        "  loss = cross_entropy(Y, Yhat)\n",
        "\n",
        "\n",
        "  #######################\n",
        "  #### backward pass ####\n",
        "  #######################\n",
        "\n",
        "  dLdZ_last = Yhat - Y # gradient of loss w.r.t. last conv layer output Z_last\n",
        "  dLdZ_last[Z_last < 0] = 0 # backpropagate through ReLU\n",
        "\n",
        "  dLdWs, dLdbs = list(), list()\n",
        "\n",
        "  # ----------- begin of conv layers backward operations ---------------\n",
        "  dLdZ3 = np.copy(dLdZ_last)\n",
        "\n",
        "  # backward pass the 3rd conv layer\n",
        "  dLdZ2, dLdW3, dLdb3 = conv_backward(dLdZ3, mem3)\n",
        "  assert(dLdW3.shape == (f3, f3, depth2, depth3))\n",
        "  assert(dLdb3.shape == (1, 1, 1, depth3))\n",
        "  dLdWs.append(dLdW3)\n",
        "  dLdbs.append(dLdb3)\n",
        "  dLdZ2[Z2 < 0] = 0 # backpropagate through ReLU\n",
        "\n",
        "  # backward pass the 2nd conv layer\n",
        "  dLdZ1, dLdW2, dLdb2 = conv_backward(dLdZ2, mem2)\n",
        "  assert(dLdW2.shape == (f2, f2, depth1, depth2))\n",
        "  assert(dLdb2.shape == (1, 1, 1, depth2))\n",
        "  dLdWs.append(dLdW2)\n",
        "  dLdbs.append(dLdb2)\n",
        "  dLdZ1[Z1 < 0] = 0 # backpropagate through ReLU\n",
        "\n",
        "  # backward pass the 1st conv layer\n",
        "  dLdimage, dLdW1, dLdb1 = conv_backward(dLdZ1, mem1)\n",
        "  assert(dLdW1.shape == (f1, f1, depth0, depth1))\n",
        "  assert(dLdb1.shape == (1, 1, 1, depth1))\n",
        "  dLdWs.append(dLdW1)\n",
        "  dLdbs.append(dLdb1)\n",
        "  # ----------- end of conv layers backward operations ---------------\n",
        "\n",
        "\n",
        "  dLdWs = dLdWs[::-1] # after inverse, dLdWs = [dLdW1, dLdW2, ...]\n",
        "  dLdbs = dLdbs[::-1] # after inverse, dLdbs = [dLdb1, dLdb2, ...]\n",
        "\n",
        "  return dLdWs, dLdbs, Yhat, loss"
      ],
      "execution_count": 0,
      "outputs": []
    },
    {
      "cell_type": "markdown",
      "metadata": {
        "id": "WGYbiTBkJ0mb",
        "colab_type": "text"
      },
      "source": [
        "### Gradient Descent"
      ]
    },
    {
      "cell_type": "code",
      "metadata": {
        "id": "2aiTKD6hJ3HS",
        "colab_type": "code",
        "colab": {}
      },
      "source": [
        "def gradient_descent(weights, biases, dLdWs, dLdbs, learning_rate:float): \n",
        "  \"\"\"\n",
        "  Parameters:\n",
        "  The lengths of these 4 parameters are the number of conv layers, \\\n",
        "  which is 3 in this case.\n",
        "  \n",
        "  weights: np.arrray, [W1, W2, ...].\n",
        "  biases: np.arrray, [b1, b2, ...].\n",
        "  dLdWs: np.array, [dLdW1, dLdW2, ...].\n",
        "  dLdbs: np.array, [dLdb1, dLdb2, ...].\n",
        "  learning_rate: float. \n",
        "\n",
        "  Returns:\n",
        "  New weights and biases after gradient descent. \n",
        "  \"\"\"\n",
        "\n",
        "  for l in range(len(weights)): \n",
        "    # l is the index of the conv layers, from 1 to 3 in this case\n",
        "    # dLdWs[l] and weights[l] are both np.array of dim (f_l, f_l, depth_{l-1}, depth_l)\n",
        "\n",
        "    weights[l] -= learning_rate * dLdWs[l]\n",
        "    # dLdWs[l] and weights[l] are both np.array of dim (1, 1, 1, depth_l)\n",
        "    biases[l] -= learning_rate * dLdbs[l]\n",
        "\n",
        "  return weights, biases"
      ],
      "execution_count": 0,
      "outputs": []
    },
    {
      "cell_type": "markdown",
      "metadata": {
        "id": "0Q9fzGhsag5A",
        "colab_type": "text"
      },
      "source": [
        "### Training function"
      ]
    },
    {
      "cell_type": "code",
      "metadata": {
        "id": "W8diS1f0FiAC",
        "colab_type": "code",
        "colab": {}
      },
      "source": [
        "# order = np.arange(len(arr))\n",
        "# np.random.shuffle(order)\n",
        "\n",
        "\n",
        "def shuffle_forward(arr:np.array, order:np.array):\n",
        "  return arr[order]\n",
        "\n",
        "\n",
        "def shuffle_backward(arr:np.array, order:np.array):\n",
        "  arr_out = np.copy(arr)\n",
        "  for i, j in enumerate(order):\n",
        "    arr_out[j] = arr[i]\n",
        "  return arr_out"
      ],
      "execution_count": 0,
      "outputs": []
    },
    {
      "cell_type": "code",
      "metadata": {
        "id": "tMjjTvIXajCd",
        "colab_type": "code",
        "colab": {}
      },
      "source": [
        "def train_cnn(images_all:np.array, Y:np.array, params:tuple, shapes:tuple,\\\n",
        "              batch_size:int, learning_rate:float=0.01, num_epochs:int=50,need_normalize=True):\n",
        "  \"\"\"\n",
        "  images_all: np.array of dim (n, height, depth, 1), all gray images.\n",
        "  Y: np.array of dim (n, height, depth, K), all images after one-hot encoding.\n",
        "  params: tuple, the length of the tuple is the number of conv layers, \n",
        "          params = ((f1, stride1, pad1), (f2, stride2, pad2), ...).\n",
        "  shapes: tuple, it contains the shapes of conv layers,\n",
        "          ((height1, width1, depth1), (height2, width2, depth2), ...).\n",
        "  \"\"\"\n",
        "\n",
        "  # normalization\n",
        "  if need_normalize:\n",
        "    X = (images_all - np.mean(images_all)) / np.std(images_all)\n",
        "  m = batch_size\n",
        "  \n",
        "  f1, stride1, pad1 = params[0]\n",
        "  f2, stride2, pad2 = params[1]\n",
        "  f3, stride3, pad3 = params[2]\n",
        "\n",
        "  # initialize weights and biases\n",
        "  # images.shape[1:] is the shape of input layer, i.e. (height, width) of a image\n",
        "  # shape[l] is the shape of l-th conv layer\n",
        "  W1, b1 = initialize(images.shape[1:], shapes[0], f1)\n",
        "  W2, b2 = initialize(shapes[0], shapes[1], f2)\n",
        "  W3, b3 = initialize(shapes[1], shapes[2], f3)\n",
        "  weights = [W1,W2,W3]\n",
        "  biases = [b1,b2,b3]\n",
        "\n",
        "\n",
        "  for epoch in range(num_epochs):\n",
        "    # shuffle\n",
        "    order = np.arange(X.shape[0])\n",
        "    np.random.shuffle(order)\n",
        "    X = X[order]\n",
        "    Y = Y[order]\n",
        "\n",
        "    num_batches = int(np.ceil(X.shape[0] / m))\n",
        "    for b in range(num_batches):\n",
        "      X_b = X[b*m : min((b+1)*m, X.shape[0])]\n",
        "      Y_b = Y[b*m : min((b+1)*m, Y.shape[0])]\n",
        "      \n",
        "      # compute the graidents and loss\n",
        "      dLdWs_b, dLdbs_b, Yhat_b, loss_b = cnn_pass(images=X_b, Y=Y_b, weights=weights, biases=biases, \\\n",
        "                                                  params=params, shapes=shapes)\n",
        "\n",
        "      if epoch % 100 == 0:\n",
        "      # if True:\n",
        "        dLdWs_b_mean = np.mean([np.sum(d) for d in dLdWs_b])\n",
        "        dLdbs_b_mean = np.mean([np.sum(d) for d in dLdbs_b])\n",
        "        print(f\"For {epoch+1}st epoch and {b+1}st batch, avg grd wrt W: {dLdWs_b_mean:.4f}, wrt b: {dLdbs_b_mean:.4f}, loss: {loss_b:.4f}.\")\n",
        "        \n",
        "        if np.abs(dLdbs_b_mean) > 100:\n",
        "          return weights, biases\n",
        "      \n",
        "      # update weights and biases by the gradients\n",
        "      weights, biases = gradient_descent(weights=weights, biases=biases, dLdWs=dLdWs_b, \\\n",
        "                                         dLdbs=dLdbs_b, learning_rate=learning_rate)\n",
        "      \n",
        "      # print(cnn_predict(images, weights, biases, params))\n",
        "  \n",
        "  return weights, biases"
      ],
      "execution_count": 0,
      "outputs": []
    },
    {
      "cell_type": "markdown",
      "metadata": {
        "id": "lIuB9DfeU6x8",
        "colab_type": "text"
      },
      "source": [
        "### Predicting function"
      ]
    },
    {
      "cell_type": "code",
      "metadata": {
        "id": "kmI70BmIkQcF",
        "colab_type": "code",
        "colab": {}
      },
      "source": [
        "def cnn_predict(images, weights, biases, params):\n",
        "  \"\"\"\n",
        "  Parameters:\n",
        "  images: np.array of dim (m, height0, width0, 1), a batch of m gray images.\n",
        "  weights: np.arrray, [W1, W2, ...].\n",
        "  biases: np.arrray, [b1, b2, ...].\n",
        "  params: tuple, the length of the tuple is the number of conv layers, \n",
        "          params = ((f1, stride1, pad1), (f2, stride2, pad2), ...).\n",
        "  \n",
        "  Returns:\n",
        "  Yhat: np.array of dim (m, height0, width0, K), estimated probability.\n",
        "  \"\"\"\n",
        "  \n",
        "  m, height0, width0, _ = images.shape\n",
        "  W1, W2, W3 = weights\n",
        "  b1, b2, b3 = biases\n",
        "  f1, stride1, pad1 = params[0]\n",
        "  f2, stride2, pad2 = params[1]\n",
        "  f3, stride3, pad3 = params[2]\n",
        "\n",
        "  # ----------- begin of conv layers forward operations ---------------\n",
        "  # forward pass the 1st conv layer\n",
        "  # Z1 is the output of the 1st conv layer\n",
        "  Z1, mem1 = conv_forward(images, W1, b1, stride1, pad1) \n",
        "  Z1[Z1 < 0] = 0 # apply ReLU\n",
        "\n",
        "  # forward pass the 2nd conv layer\n",
        "  Z2, mem2 = conv_forward(Z1, W2, b2, stride2, pad2) \n",
        "  Z2[Z2 < 0] = 0 # apply ReLU\n",
        "\n",
        "  # forward pass the 3rd conv layer\n",
        "  Z3, mem3 = conv_forward(Z2, W3, b3, stride3, pad3) \n",
        "  Z3[Z3 < 0] = 0 # apply ReLU\n",
        "  \n",
        "  Z_last = np.copy(Z3)\n",
        "  # ----------- end of conv layers forward operations ----------------\n",
        "\n",
        "  # softmax (output) layer\n",
        "  Yhat = softmax(Z_last)\n",
        "\n",
        "  return Yhat"
      ],
      "execution_count": 0,
      "outputs": []
    },
    {
      "cell_type": "markdown",
      "metadata": {
        "id": "sAW8wx73YTUz",
        "colab_type": "text"
      },
      "source": [
        "### Example of using the CNN\n",
        "\n",
        "\n",
        "```\n",
        "params: tuple, the length of the tuple is the number of conv layers, \n",
        "        params = ((f1, stride1, pad1), (f2, stride2, pad2), ...).\n",
        "\n",
        "shapes: tuple, it contains the shapes of conv layers,\n",
        "        shapes = ((height1, width1, depth1), (height2, width2, depth2), ...).\n",
        "```\n"
      ]
    },
    {
      "cell_type": "code",
      "metadata": {
        "id": "4hjImKbvm9q2",
        "colab_type": "code",
        "outputId": "055c7246-2afa-4115-e41e-30e7e0ce43d6",
        "colab": {
          "base_uri": "https://localhost:8080/",
          "height": 538
        }
      },
      "source": [
        "images = np.array([[[[200], [200], [200]], \n",
        "                    [[100], [100], [100]],\n",
        "                    [[100], [100], [100]]]])\n",
        "\n",
        "Y = np.array([[[[0,1], [0,1], [0,1]], \n",
        "               [[1,0], [1,0], [1,0]],\n",
        "               [[1,0], [1,0], [1,0]]]])\n",
        "\n",
        "params=((3,1,1), (3,1,1), (3,1,1))\n",
        "shapes=((3,3,4), (6,6,6), (3,3,2))\n",
        "\n",
        "weights, biases = train_cnn(images_all=images, Y=Y, params=params, shapes=shapes, \\\n",
        "                            batch_size=2, learning_rate=0.01, num_epochs=301, need_normalize=True)"
      ],
      "execution_count": 0,
      "outputs": [
        {
          "output_type": "stream",
          "text": [
            "For 1-th epoch and 1-th batch, avg grd wrt W: -0.0052, wrt b: -0.0056, loss: 0.6931.\n",
            "For 11-th epoch and 1-th batch, avg grd wrt W: -0.0099, wrt b: -0.0129, loss: 0.6728.\n",
            "For 21-th epoch and 1-th batch, avg grd wrt W: -0.0212, wrt b: -0.0303, loss: 0.6598.\n",
            "For 31-th epoch and 1-th batch, avg grd wrt W: -0.0407, wrt b: -0.0594, loss: 0.6513.\n",
            "For 41-th epoch and 1-th batch, avg grd wrt W: -0.0724, wrt b: -0.1053, loss: 0.6455.\n",
            "For 51-th epoch and 1-th batch, avg grd wrt W: -0.1252, wrt b: -0.1775, loss: 0.6407.\n",
            "For 61-th epoch and 1-th batch, avg grd wrt W: -0.2190, wrt b: -0.2917, loss: 0.6351.\n",
            "For 71-th epoch and 1-th batch, avg grd wrt W: -0.4067, wrt b: -0.4743, loss: 0.6253.\n",
            "For 81-th epoch and 1-th batch, avg grd wrt W: -0.8551, wrt b: -0.7717, loss: 0.6046.\n",
            "For 91-th epoch and 1-th batch, avg grd wrt W: -2.1505, wrt b: -1.2806, loss: 0.5564.\n",
            "For 101-th epoch and 1-th batch, avg grd wrt W: -5.9649, wrt b: -2.1279, loss: 0.4210.\n",
            "For 111-th epoch and 1-th batch, avg grd wrt W: -6.6680, wrt b: -1.6029, loss: 0.1242.\n",
            "For 121-th epoch and 1-th batch, avg grd wrt W: -2.6443, wrt b: -0.5616, loss: 0.0304.\n",
            "For 131-th epoch and 1-th batch, avg grd wrt W: -1.3840, wrt b: -0.2843, loss: 0.0135.\n",
            "For 141-th epoch and 1-th batch, avg grd wrt W: -0.8905, wrt b: -0.1801, loss: 0.0080.\n",
            "For 151-th epoch and 1-th batch, avg grd wrt W: -0.6416, wrt b: -0.1286, loss: 0.0054.\n",
            "For 161-th epoch and 1-th batch, avg grd wrt W: -0.4951, wrt b: -0.0986, loss: 0.0040.\n",
            "For 171-th epoch and 1-th batch, avg grd wrt W: -0.3998, wrt b: -0.0792, loss: 0.0032.\n",
            "For 181-th epoch and 1-th batch, avg grd wrt W: -0.3335, wrt b: -0.0659, loss: 0.0026.\n",
            "For 191-th epoch and 1-th batch, avg grd wrt W: -0.2849, wrt b: -0.0561, loss: 0.0022.\n",
            "For 201-th epoch and 1-th batch, avg grd wrt W: -0.2480, wrt b: -0.0487, loss: 0.0018.\n",
            "For 211-th epoch and 1-th batch, avg grd wrt W: -0.2190, wrt b: -0.0429, loss: 0.0016.\n",
            "For 221-th epoch and 1-th batch, avg grd wrt W: -0.1958, wrt b: -0.0383, loss: 0.0014.\n",
            "For 231-th epoch and 1-th batch, avg grd wrt W: -0.1767, wrt b: -0.0345, loss: 0.0013.\n",
            "For 241-th epoch and 1-th batch, avg grd wrt W: -0.1609, wrt b: -0.0314, loss: 0.0011.\n",
            "For 251-th epoch and 1-th batch, avg grd wrt W: -0.1475, wrt b: -0.0287, loss: 0.0010.\n",
            "For 261-th epoch and 1-th batch, avg grd wrt W: -0.1360, wrt b: -0.0265, loss: 0.0009.\n",
            "For 271-th epoch and 1-th batch, avg grd wrt W: -0.1261, wrt b: -0.0245, loss: 0.0009.\n",
            "For 281-th epoch and 1-th batch, avg grd wrt W: -0.1175, wrt b: -0.0228, loss: 0.0008.\n",
            "For 291-th epoch and 1-th batch, avg grd wrt W: -0.1099, wrt b: -0.0213, loss: 0.0007.\n",
            "For 301-th epoch and 1-th batch, avg grd wrt W: -0.1032, wrt b: -0.0200, loss: 0.0007.\n"
          ],
          "name": "stdout"
        }
      ]
    },
    {
      "cell_type": "code",
      "metadata": {
        "id": "5GhyyyrK2YMi",
        "colab_type": "code",
        "outputId": "f2c3a3be-d565-4d7e-83df-bad9c830bd48",
        "colab": {
          "base_uri": "https://localhost:8080/",
          "height": 202
        }
      },
      "source": [
        "cnn_predict(images, weights, biases, params)"
      ],
      "execution_count": 0,
      "outputs": [
        {
          "output_type": "execute_result",
          "data": {
            "text/plain": [
              "array([[[[2.26509618e-171, 1.00000000e+000],\n",
              "         [1.00476568e-242, 1.00000000e+000],\n",
              "         [3.60827431e-172, 1.00000000e+000]],\n",
              "\n",
              "        [[5.98551547e-059, 1.00000000e+000],\n",
              "         [3.23440780e-082, 1.00000000e+000],\n",
              "         [1.44107827e-057, 1.00000000e+000]],\n",
              "\n",
              "        [[1.00000000e+000, 5.98474279e-204],\n",
              "         [1.00000000e+000, 3.62088031e-290],\n",
              "         [1.00000000e+000, 5.78082562e-207]]]])"
            ]
          },
          "metadata": {
            "tags": []
          },
          "execution_count": 18
        }
      ]
    },
    {
      "cell_type": "markdown",
      "metadata": {
        "id": "KHbLVyMrKBr3",
        "colab_type": "text"
      },
      "source": [
        "## Images preprocessing"
      ]
    },
    {
      "cell_type": "markdown",
      "metadata": {
        "id": "edfnVI7YvPLi",
        "colab_type": "text"
      },
      "source": [
        "### Resizing"
      ]
    },
    {
      "cell_type": "code",
      "metadata": {
        "id": "k2msWzERKdiX",
        "colab_type": "code",
        "colab": {}
      },
      "source": [
        "# load image and resize\n",
        "def read_img(path,size):\n",
        "    data_path = os.path.join(path,'*g')\n",
        "    files = glob.glob(data_path)\n",
        "    data = []\n",
        "    r, g, b = [], [], []\n",
        "    for f1 in files:\n",
        "        img = mpimg.imread(f1)\n",
        "        #plt.imshow(img)\n",
        "        print('Original Dimensions : ',img.shape)\n",
        "        resized = cv2.resize(img,size)\n",
        "        print('Dimensions : ',resized.shape)\n",
        "        assert(resized.shape == (size[0],size[1],3))\n",
        "        data.append(resized)\n",
        "        r.append(resized[:,:,0])\n",
        "        g.append(resized[:,:,1])\n",
        "        b.append(resized[:,:,2])\n",
        "    return np.array(data), np.array(r), np.array(g), np.array(b)"
      ],
      "execution_count": 0,
      "outputs": []
    },
    {
      "cell_type": "code",
      "metadata": {
        "id": "jpnSNgHUKjGl",
        "colab_type": "code",
        "colab": {}
      },
      "source": [
        "path = \"/content/gdrive/My Drive/Colab Notebooks/color/sunrise\"\n",
        "size = (8,8)\n",
        "k = 2\n",
        "data,r,g,b = read_img(path,size)"
      ],
      "execution_count": 0,
      "outputs": []
    },
    {
      "cell_type": "markdown",
      "metadata": {
        "id": "vab0a2vLLSqF",
        "colab_type": "text"
      },
      "source": [
        "### Color to grayscale\n",
        "\n",
        "Convert cpolor images to gray images."
      ]
    },
    {
      "cell_type": "code",
      "metadata": {
        "id": "VYa3vPKULWBS",
        "colab_type": "code",
        "outputId": "29e8f2a8-84c2-4453-86b9-b351847451f3",
        "colab": {
          "base_uri": "https://localhost:8080/",
          "height": 265
        }
      },
      "source": [
        "# rgb to grayscale\n",
        "def rgb_to_gray(data):\n",
        "    gray = []\n",
        "    for rgb in data:\n",
        "       rgb = np.dot(rgb[...,:3], [0.21, 0.72, 0.07])\n",
        "       gray.append(rgb)\n",
        "    return np.array(gray)\n",
        "\n",
        "gray_data = rgb_to_gray(data)\n",
        "plt.imshow(gray_data[4],cmap='gray');"
      ],
      "execution_count": 0,
      "outputs": [
        {
          "output_type": "display_data",
          "data": {
            "image/png": "[encoded data removed]",
            "text/plain": [
              "<Figure size 432x288 with 1 Axes>"
            ]
          },
          "metadata": {
            "tags": []
          }
        }
      ]
    },
    {
      "cell_type": "markdown",
      "metadata": {
        "id": "Rbo63ipERlJN",
        "colab_type": "text"
      },
      "source": [
        "### RGB to palette \n",
        "\n",
        "We shift this regression problem to classification problem. \n",
        "\n",
        "We built an palette of $K$ colors, and convert rgb values to one-hot vector. "
      ]
    },
    {
      "cell_type": "code",
      "metadata": {
        "id": "xB2wU2ziLYlu",
        "colab_type": "code",
        "colab": {}
      },
      "source": [
        "# get palatte image and its one hot encoding\n",
        "\n",
        "# we use this package only for one-hot encoding\n",
        "from keras.utils import to_categorical\n",
        "\n",
        "def rgb_to_palette(data,k):\n",
        "  #  size = (64,64)\n",
        "    divider = 256 // k\n",
        "    total = k*k*k  # 4*4*4\n",
        "    palette = []\n",
        "    one_hot_value = np.zeros((size[0],size[1],3))\n",
        "    one_hot_code = []\n",
        "    for rgb in data:\n",
        "        one_hot_value = rgb[:,:,0]//divider + rgb[:,:,1]//divider * k + rgb[:,:,2]//divider * k * k\n",
        "        one_hot_value = to_categorical(one_hot_value,num_classes = total)\n",
        "        one_hot_code.append(one_hot_value)\n",
        "        rgb[:,:,0] = rgb[:,:,0]//divider * divider\n",
        "        rgb[:,:,1] = rgb[:,:,1]//divider * divider\n",
        "        rgb[:,:,2] = rgb[:,:,2]//divider * divider\n",
        "        palette.append(rgb)\n",
        "    return np.array(palette), np.array(one_hot_code)\n",
        "\n",
        "palette_data, one_hot_code = rgb_to_palette(data,k)"
      ],
      "execution_count": 0,
      "outputs": []
    },
    {
      "cell_type": "markdown",
      "metadata": {
        "id": "Rh14stWETDQF",
        "colab_type": "text"
      },
      "source": [
        "### Onehot to RGB\n",
        "\n",
        "This function is used to recover one-hot vectors to rgb values."
      ]
    },
    {
      "cell_type": "code",
      "metadata": {
        "id": "9J2ETHUpTI91",
        "colab_type": "code",
        "outputId": "a5a23374-6eef-4559-ad3f-7da7a9886899",
        "colab": {
          "base_uri": "https://localhost:8080/",
          "height": 282
        }
      },
      "source": [
        "def onehot_to_rgb(data,k):\n",
        "    divider = 256 // k\n",
        "    result = []\n",
        "    data = np.array(data,dtype = int)\n",
        "    #last dimension index shows oringinal number\n",
        "    for index in np.where(data == 1)[3]:\n",
        "        b = index // (k*k) * divider\n",
        "        g = (index % (k*k)) // k * divider\n",
        "        r = (index % k) * divider   \n",
        "        rgb = [r,g,b]\n",
        "        result.append(rgb)  \n",
        "    result = np.array(result)\n",
        "    print(result.shape)\n",
        "    return result.reshape((data.shape[0],size[0],size[1],3))\n",
        "k = 2\n",
        "onehot_rgb_recover = onehot_to_rgb(one_hot_code,k)\n",
        "plt.imshow(onehot_rgb_recover[0]);"
      ],
      "execution_count": 0,
      "outputs": [
        {
          "output_type": "stream",
          "text": [
            "(1280, 3)\n"
          ],
          "name": "stdout"
        },
        {
          "output_type": "display_data",
          "data": {
            "image/png": "[encoded data removed]",
            "text/plain": [
              "<Figure size 432x288 with 1 Axes>"
            ]
          },
          "metadata": {
            "tags": []
          }
        }
      ]
    },
    {
      "cell_type": "markdown",
      "metadata": {
        "id": "7T6czttLUfpm",
        "colab_type": "text"
      },
      "source": [
        "The image above is recovered from one-hot vector."
      ]
    },
    {
      "cell_type": "code",
      "metadata": {
        "id": "_UBDh77YT89z",
        "colab_type": "code",
        "colab": {}
      },
      "source": [
        "def oneHotClass_to_rgb(data,k):\n",
        "    divider = 256 // k\n",
        "    b = data[:,:,:,0] // (k*k) * divider\n",
        "    g = (data[:,:,:,0] % (k*k)) // k * divider\n",
        "    r = (data[:,:,:,0] % k) * divider  \n",
        "   # r = r.reshape(r.shape[0],r.shape[1],r.shape[2],1)\n",
        "   # g = g.reshape(g.shape[0],g.shape[1],g.shape[2],1)\n",
        "   # b = b.reshape(b.shape[0],b.shape[1],b.shape[2],1)\n",
        "    print(r.shape)\n",
        "    print(g.shape)\n",
        "    print(b.shape) \n",
        "    return np.stack((r,g,b),axis=3)"
      ],
      "execution_count": 0,
      "outputs": []
    },
    {
      "cell_type": "markdown",
      "metadata": {
        "id": "gnYVdlosWK_P",
        "colab_type": "text"
      },
      "source": [
        "### LAB to palette"
      ]
    },
    {
      "cell_type": "code",
      "metadata": {
        "id": "w-P7rcj0UPBY",
        "colab_type": "code",
        "outputId": "507911b3-9920-4531-d56f-16c9ecc0ed7d",
        "colab": {
          "base_uri": "https://localhost:8080/",
          "height": 265
        }
      },
      "source": [
        "# return (L,A,B) of whole dataset(20,64,64,3)\n",
        "def rgb_to_lab(data):\n",
        "    lab_data = []\n",
        "    for rgb in data:\n",
        "        lab = rgb2lab(rgb)\n",
        "        lab_data.append(lab[:,:,0:3])\n",
        "    return np.array(lab_data)\n",
        "\n",
        "lab_data = rgb_to_lab(data)\n",
        "plt.imshow(lab2rgb(lab_data[0]));"
      ],
      "execution_count": 0,
      "outputs": [
        {
          "output_type": "display_data",
          "data": {
            "image/png": "[encoded data removed]",
            "text/plain": [
              "<Figure size 432x288 with 1 Axes>"
            ]
          },
          "metadata": {
            "tags": []
          }
        }
      ]
    },
    {
      "cell_type": "code",
      "metadata": {
        "id": "K9Ws0I_JUw1f",
        "colab_type": "code",
        "outputId": "7c05795a-305f-4b51-f4b4-056e51d73757",
        "colab": {
          "base_uri": "https://localhost:8080/",
          "height": 298
        }
      },
      "source": [
        "#input (A,B)(20,64,64,2)\n",
        "#A,B is on -128,127\n",
        "def lab_to_palette(data,k):\n",
        "    data = data + 128 #  convert into [0,255]\n",
        "    divider = 256 // k # 64\n",
        "    total = k*k  # 4*4\n",
        "    palette = []\n",
        "    one_hot_value = data[:,:,:,0]//divider + data[:,:,:,1]//divider * k\n",
        "    one_hot_code = to_categorical(one_hot_value,num_classes = total)\n",
        "    print(one_hot_code.shape)\n",
        "    data[:,:,:,0] = data[:,:,:,0]//divider * divider\n",
        "    data[:,:,:,1] = data[:,:,:,1]//divider * divider\n",
        "    print(data.shape)\n",
        "    data = data - 128\n",
        "    return data, np.array(one_hot_code)\n",
        "\n",
        "k = 8\n",
        "lab_palette, oneHot_lab_palette = lab_to_palette(lab_data[:,:,:,1:3],k)\n",
        "#lab_data[:,:,:,0].reshape(data.shape[0],size[0],size[1],1)\n",
        "lab_palette = np.stack((lab_data[:,:,:,0],lab_palette[:,:,:,0],lab_palette[:,:,:,1]), axis = 3)\n",
        "plt.imshow(lab2rgb(lab_palette[0]));"
      ],
      "execution_count": 0,
      "outputs": [
        {
          "output_type": "stream",
          "text": [
            "(20, 8, 8, 64)\n",
            "(20, 8, 8, 2)\n"
          ],
          "name": "stdout"
        },
        {
          "output_type": "display_data",
          "data": {
            "image/png": "[encoded data removed]",
            "text/plain": [
              "<Figure size 432x288 with 1 Axes>"
            ]
          },
          "metadata": {
            "tags": []
          }
        }
      ]
    },
    {
      "cell_type": "markdown",
      "metadata": {
        "id": "ocMFYaRSWYWQ",
        "colab_type": "text"
      },
      "source": [
        "### One-hot to LAB"
      ]
    },
    {
      "cell_type": "code",
      "metadata": {
        "id": "bZo3CopcInx3",
        "colab_type": "code",
        "outputId": "52efb17c-1525-485e-951b-13d56782b17f",
        "colab": {
          "base_uri": "https://localhost:8080/",
          "height": 265
        }
      },
      "source": [
        "def onehot_to_lab(data,k):\n",
        "    divider = 256 // k\n",
        "    result = []\n",
        "    #last dimension index shows oringinal number\n",
        "    for index in np.where(data == 1)[3]:\n",
        "        b = index // k * divider\n",
        "        a = (index % (index // k * k)) * divider  \n",
        "        b = b - 128\n",
        "        a = a - 128\n",
        "        ab = [a,b]\n",
        "        result.append(ab)  \n",
        "    result = np.array(result)\n",
        "    return result.reshape((data.shape[0],size[0],size[1],2))\n",
        "\n",
        "k = 8\n",
        "onehot_lab_recover = onehot_to_lab(oneHot_lab_palette,k)\n",
        "onehot_lab_recover1 = np.stack((lab_data[:,:,:,0],onehot_lab_recover[:,:,:,0],onehot_lab_recover[:,:,:,1]), axis = 3)\n",
        "plt.imshow(lab2rgb(onehot_lab_recover1[0]));"
      ],
      "execution_count": 0,
      "outputs": [
        {
          "output_type": "display_data",
          "data": {
            "image/png": "[encoded data removed]",
            "text/plain": [
              "<Figure size 432x288 with 1 Axes>"
            ]
          },
          "metadata": {
            "tags": []
          }
        }
      ]
    },
    {
      "cell_type": "markdown",
      "metadata": {
        "id": "rfmwNPxfXHpt",
        "colab_type": "text"
      },
      "source": [
        "The image above is recovered from one-hot vector to LAB values."
      ]
    },
    {
      "cell_type": "markdown",
      "metadata": {
        "id": "c2ZbALvhZlTv",
        "colab_type": "text"
      },
      "source": [
        "## Modeling"
      ]
    },
    {
      "cell_type": "markdown",
      "metadata": {
        "id": "syLOOkT6bVx2",
        "colab_type": "text"
      },
      "source": [
        "### Preparing images"
      ]
    },
    {
      "cell_type": "code",
      "metadata": {
        "id": "lX-XPjveW8Ya",
        "colab_type": "code",
        "colab": {}
      },
      "source": [
        "X = gray_data.reshape((20,8,8,1))\n",
        "Y = one_hot_code"
      ],
      "execution_count": 0,
      "outputs": []
    },
    {
      "cell_type": "code",
      "metadata": {
        "id": "SnMl_Z2uauFF",
        "colab_type": "code",
        "outputId": "d76132b7-cf1f-41aa-a824-4fa84608f897",
        "colab": {
          "base_uri": "https://localhost:8080/",
          "height": 34
        }
      },
      "source": [
        "print(f\"The shape of X is {X.shape}, and the shape of Y is {Y.shape}\")"
      ],
      "execution_count": 0,
      "outputs": [
        {
          "output_type": "stream",
          "text": [
            "The shape of X is (20, 8, 8, 1), and the shape of Y is (20, 8, 8, 8)\n"
          ],
          "name": "stdout"
        }
      ]
    },
    {
      "cell_type": "code",
      "metadata": {
        "id": "7XSkARQcavN_",
        "colab_type": "code",
        "colab": {}
      },
      "source": [
        "# split the data\n",
        "Xtr, Xte = X[5:], X[:5]\n",
        "Ytr, Yte = Y[5:], Y[:5]"
      ],
      "execution_count": 0,
      "outputs": []
    },
    {
      "cell_type": "markdown",
      "metadata": {
        "id": "oSUrm1TRcZHC",
        "colab_type": "text"
      },
      "source": [
        "### Training\n",
        "\n",
        "\n",
        "```\n",
        "params: tuple, the length of the tuple is the number of conv layers, \n",
        "        params = ((f1, stride1, pad1), (f2, stride2, pad2), ...).\n",
        "\n",
        "shapes: tuple, it contains the shapes of conv layers,\n",
        "        shapes = ((height1, width1, depth1), (height2, width2, depth2), ...).\n",
        "```"
      ]
    },
    {
      "cell_type": "markdown",
      "metadata": {
        "id": "yiJHyCFpumVH",
        "colab_type": "text"
      },
      "source": [
        "Since the CNN with 3 convolutional layers is very computationally expensive, we used the images of size $8\\times8$ and built a palette of $8$ colors. \n",
        "\n",
        "We need to predict the probability of each pixel for 8 different colors, so it is a classification problem. The shape of our input images is $8\\times 8$. \n",
        "\n",
        "Here is the architecture of our convolutional neural network:\n",
        "\n",
        "![CNN1](https://github.com/WalkerMao/Notes/blob/master/Pictures/ConvNN1.jpg?raw=true)\n"
      ]
    },
    {
      "cell_type": "code",
      "metadata": {
        "id": "dqCfxxRQbrFe",
        "colab_type": "code",
        "colab": {}
      },
      "source": [
        "params = ((3,1,1), (3,1,1), (3,1,1))\n",
        "shapes = ((64,64,64), (64,64,64), (8,8,8))"
      ],
      "execution_count": 0,
      "outputs": []
    },
    {
      "cell_type": "code",
      "metadata": {
        "id": "1Gx3EauSbtKu",
        "colab_type": "code",
        "outputId": "5ad37e59-8665-4241-89d7-48c0f96ebb1e",
        "colab": {
          "base_uri": "https://localhost:8080/",
          "height": 185
        }
      },
      "source": [
        "weights, biases = train_cnn(images_all=Xtr, Y=Ytr, params=params, shapes=shapes, \\\n",
        "                            batch_size=16, learning_rate=0.001, num_epochs=1000, need_normalize=True)"
      ],
      "execution_count": 0,
      "outputs": [
        {
          "output_type": "stream",
          "text": [
            "For 1st epoch and 1st batch, avg grd wrt W: -0.0000, wrt b: -0.0009, loss: 2.0794.\n",
            "For 101st epoch and 1st batch, avg grd wrt W: -0.0007, wrt b: -0.4246, loss: 1.4485.\n",
            "For 201st epoch and 1st batch, avg grd wrt W: -0.0220, wrt b: -9.4201, loss: 1.2683.\n",
            "For 301st epoch and 1st batch, avg grd wrt W: -6.8581, wrt b: -18.5291, loss: 0.8932.\n",
            "For 401st epoch and 1st batch, avg grd wrt W: -189.4674, wrt b: -5.5828, loss: 0.4168.\n",
            "For 501st epoch and 1st batch, avg grd wrt W: -106.8501, wrt b: 2.6317, loss: 0.3073.\n",
            "For 601st epoch and 1st batch, avg grd wrt W: -15.7538, wrt b: 0.3022, loss: 0.1273.\n",
            "For 701st epoch and 1st batch, avg grd wrt W: -3.1320, wrt b: 0.3060, loss: 0.0923.\n",
            "For 801st epoch and 1st batch, avg grd wrt W: -5.3055, wrt b: 0.1172, loss: 0.0734.\n",
            "For 901st epoch and 1st batch, avg grd wrt W: -4.4679, wrt b: 0.0635, loss: 0.0614.\n"
          ],
          "name": "stdout"
        }
      ]
    },
    {
      "cell_type": "markdown",
      "metadata": {
        "id": "Pd76wg5GXi55",
        "colab_type": "text"
      },
      "source": [
        "### Prediction"
      ]
    },
    {
      "cell_type": "code",
      "metadata": {
        "id": "Z2xrYJ2AljYy",
        "colab_type": "code",
        "colab": {}
      },
      "source": [
        "# do prediction both on training set and test set\n",
        "Yhat = cnn_predict(X, weights, biases, params)"
      ],
      "execution_count": 0,
      "outputs": []
    },
    {
      "cell_type": "code",
      "metadata": {
        "id": "drQubY10x_Sd",
        "colab_type": "code",
        "colab": {}
      },
      "source": [
        "# convert estimated probabilitie to one-hot class\n",
        "Yhat_onehot = np.copy(Yhat_tr)\n",
        "for i in range(Yhat_onehot.shape[0]):\n",
        "  for h in range(Yhat_onehot.shape[1]):\n",
        "    for w in range(Yhat_onehot.shape[2]):\n",
        "      max_prob = np.max(Yhat_onehot[i][h][w])\n",
        "      Yhat_onehot[i][h][w][Yhat_onehot[i][h][w] < max_prob] = 0\n",
        "      Yhat_onehot[i][h][w][Yhat_onehot[i][h][w] == max_prob] = 1"
      ],
      "execution_count": 0,
      "outputs": []
    },
    {
      "cell_type": "code",
      "metadata": {
        "id": "BDAe2G3aVwf_",
        "colab_type": "code",
        "outputId": "93925c68-0d2c-4025-8862-b4f199f8b4cc",
        "colab": {
          "base_uri": "https://localhost:8080/",
          "height": 294
        }
      },
      "source": [
        "fig, axs = plt.subplots(1,3, figsize=(12,34))\n",
        "\n",
        "onehot_rgb_recover = onehot_to_rgb([Ytr[5]], k=2)\n",
        "axs[0].imshow(onehot_rgb_recover[0])\n",
        "axs[0].set_title('Raw color')\n",
        "\n",
        "axs[1].imshow(Xtr[5].reshape((8,8)),cmap='gray')\n",
        "axs[1].set_title('Gray')\n",
        "\n",
        "onehot_rgb_recover = onehot_to_rgb([Yhat_onehot[5]], k=2)\n",
        "axs[2].imshow(onehot_rgb_recover[0])\n",
        "axs[2].set_title('Colorized')\n",
        "\n",
        "fig.show()"
      ],
      "execution_count": 0,
      "outputs": [
        {
          "output_type": "stream",
          "text": [
            "(64, 3)\n",
            "(64, 3)\n"
          ],
          "name": "stdout"
        },
        {
          "output_type": "display_data",
          "data": {
            "image/png": "[encoded data removed]",
            "text/plain": [
              "<Figure size 864x2448 with 3 Axes>"
            ]
          },
          "metadata": {
            "tags": []
          }
        }
      ]
    },
    {
      "cell_type": "code",
      "metadata": {
        "id": "FlWtgdCpYBHI",
        "colab_type": "code",
        "outputId": "83e36c6a-5169-4baf-c231-e2d27f1fc35f",
        "colab": {
          "base_uri": "https://localhost:8080/",
          "height": 294
        }
      },
      "source": [
        "fig, axs = plt.subplots(1,3, figsize=(12,34))\n",
        "\n",
        "onehot_rgb_recover = onehot_to_rgb([Ytr[0]], k=2)\n",
        "axs[0].imshow(onehot_rgb_recover[0])\n",
        "axs[0].set_title('Raw color')\n",
        "\n",
        "axs[1].imshow(Xtr[0].reshape((8,8)),cmap='gray')\n",
        "axs[1].set_title('Gray')\n",
        "\n",
        "onehot_rgb_recover = onehot_to_rgb([Yhat_onehot[0]], k=2)\n",
        "axs[2].imshow(onehot_rgb_recover[0])\n",
        "axs[2].set_title('Colorized')\n",
        "\n",
        "fig.show()"
      ],
      "execution_count": 0,
      "outputs": [
        {
          "output_type": "stream",
          "text": [
            "(64, 3)\n",
            "(64, 3)\n"
          ],
          "name": "stdout"
        },
        {
          "output_type": "display_data",
          "data": {
            "image/png": "[encoded data removed]",
            "text/plain": [
              "<Figure size 864x2448 with 3 Axes>"
            ]
          },
          "metadata": {
            "tags": []
          }
        }
      ]
    },
    {
      "cell_type": "markdown",
      "metadata": {
        "id": "QNXRT3QrdkI9",
        "colab_type": "text"
      },
      "source": [
        "## Bonus"
      ]
    },
    {
      "cell_type": "markdown",
      "metadata": {
        "id": "GDWRu5PqfN0j",
        "colab_type": "text"
      },
      "source": [
        "We collect some unbroken images as $Y$, then we damage the images and denote them as $X$. We need to find a model $f(\\cdot)$ that makes $\\hat{Y}=f(X)$ as close as possible to $Y$.\n",
        "\n",
        "\n",
        "We implement a convolutional neuron network to solve this problem, and we also turn this problem to a classification by building an palette of 8 colors. At first, we fill the damaged pixels with a random color class, then iterate and minimize the cross-entropy loss.\n",
        "\n",
        "```\n",
        "[Damaged images] -> [Conv1] -> [Conv2] -> [Conv3] -> [Softmax] -> [filled images] -> Loss\n",
        "```"
      ]
    },
    {
      "cell_type": "markdown",
      "metadata": {
        "id": "0pead08tjMcF",
        "colab_type": "text"
      },
      "source": [
        "Suppose the damage size is $4 \\times 4$. Here is the architecture of this convolutional neuron network.\n",
        "\n",
        "![CNN2](https://github.com/WalkerMao/Notes/blob/master/Pictures/ConvNN2.jpg?raw=true)"
      ]
    },
    {
      "cell_type": "code",
      "metadata": {
        "id": "z8TlyosjcxBZ",
        "colab_type": "code",
        "colab": {}
      },
      "source": [
        "params = ((3,1,1), (3,1,1), (3,1,1))\n",
        "shapes = ((16,16,32), (8,8,16), (4,4,8))\n",
        "\n",
        "weights, biases = train_cnn(images_all=Xtr, Y=Ytr, params=params, shapes=shapes, \\\n",
        "                            batch_size=16, learning_rate=0.001, num_epochs=1000, need_normalize=True)\n",
        "\n",
        "# do predictions\n",
        "Yhat = cnn_predict(X, weights, biases, params)"
      ],
      "execution_count": 0,
      "outputs": []
    }
  ]
}